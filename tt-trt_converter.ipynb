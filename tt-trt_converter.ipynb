{
 "cells": [
  {
   "cell_type": "code",
   "execution_count": 3,
   "id": "48742ac8",
   "metadata": {},
   "outputs": [
    {
     "ename": "ImportError",
     "evalue": "cannot import name 'trt_convert' from 'tensorflow.python.compiler.tensorrt' (C:\\Users\\czhu4\\anaconda3\\envs\\letr\\lib\\site-packages\\tensorflow\\python\\compiler\\tensorrt\\__init__.py)",
     "output_type": "error",
     "traceback": [
      "\u001b[1;31m---------------------------------------------------------------------------\u001b[0m",
      "\u001b[1;31mImportError\u001b[0m                               Traceback (most recent call last)",
      "\u001b[1;32m~\\AppData\\Local\\Temp/ipykernel_14680/3435353132.py\u001b[0m in \u001b[0;36m<module>\u001b[1;34m\u001b[0m\n\u001b[0;32m      1\u001b[0m \u001b[1;32mimport\u001b[0m \u001b[0mtensorflow\u001b[0m \u001b[1;32mas\u001b[0m \u001b[0mtf\u001b[0m\u001b[1;33m\u001b[0m\u001b[1;33m\u001b[0m\u001b[0m\n\u001b[1;32m----> 2\u001b[1;33m \u001b[1;32mfrom\u001b[0m \u001b[0mtensorflow\u001b[0m\u001b[1;33m.\u001b[0m\u001b[0mpython\u001b[0m\u001b[1;33m.\u001b[0m\u001b[0mcompiler\u001b[0m\u001b[1;33m.\u001b[0m\u001b[0mtensorrt\u001b[0m \u001b[1;32mimport\u001b[0m \u001b[0mtrt_convert\u001b[0m \u001b[1;32mas\u001b[0m \u001b[0mtrt\u001b[0m\u001b[1;33m\u001b[0m\u001b[1;33m\u001b[0m\u001b[0m\n\u001b[0m\u001b[0;32m      3\u001b[0m \u001b[1;33m\u001b[0m\u001b[0m\n\u001b[0;32m      4\u001b[0m \u001b[1;33m\u001b[0m\u001b[0m\n\u001b[0;32m      5\u001b[0m \u001b[1;33m\u001b[0m\u001b[0m\n",
      "\u001b[1;31mImportError\u001b[0m: cannot import name 'trt_convert' from 'tensorflow.python.compiler.tensorrt' (C:\\Users\\czhu4\\anaconda3\\envs\\letr\\lib\\site-packages\\tensorflow\\python\\compiler\\tensorrt\\__init__.py)"
     ]
    }
   ],
   "source": [
    "import tensorflow as tf\n",
    "from tensorflow.python.compiler.tensorrt import trt_convert as trt\n",
    "\n",
    "\n",
    "\n",
    "\n",
    "input_saved_model_dir=\"./my_model\"\n",
    "conversion_params = trt.DEFAULT_TRT_CONVERSION_PARAMS\n",
    "conversion_params = conversion_params._replace(\n",
    "    max_workspace_size_bytes=(1<<32))\n",
    "conversion_params = conversion_params._replace(precision_mode=\"FP16\")\n",
    "conversion_params = conversion_params._replace(\n",
    "    maximum_cached_engines=100)\n",
    "\n",
    "converter = trt.TrtGraphConverterV2(\n",
    "    input_saved_model_dir=input_saved_model_dir,\n",
    "    conversion_params=conversion_params)\n",
    "converter.convert()\n",
    "def my_input_fn():\n",
    "# Input for a single inference call, for a network that has two input tensors:\n",
    "  Inp1 = np.random.normal(size=(8, 16, 16, 3)).astype(np.float32)\n",
    "  inp2 = np.random.normal(size=(8, 16, 16, 3)).astype(np.float32)\n",
    "  yield (inp1, inp2)\n",
    "converter.build(input_fn=my_input_fn)\n",
    "converter.save(output_saved_model_dir)\n",
    "\n",
    "saved_model_loaded = tf.saved_model.load(\n",
    "    output_saved_model_dir, tags=[tag_constants.SERVING])\n",
    "graph_func = saved_model_loaded.signatures[\n",
    "    signature_constants.DEFAULT_SERVING_SIGNATURE_DEF_KEY]\n",
    "frozen_func = convert_to_constants.convert_variables_to_constants_v2(\n",
    "    graph_func)\n",
    "output = frozen_func(input_data)[0].numpy()\n"
   ]
  },
  {
   "cell_type": "code",
   "execution_count": null,
   "id": "01483868",
   "metadata": {},
   "outputs": [],
   "source": [
    "\n",
    "    "
   ]
  },
  {
   "cell_type": "code",
   "execution_count": null,
   "id": "13f466b0",
   "metadata": {},
   "outputs": [],
   "source": []
  }
 ],
 "metadata": {
  "kernelspec": {
   "display_name": "Python 3 (ipykernel)",
   "language": "python",
   "name": "python3"
  },
  "language_info": {
   "codemirror_mode": {
    "name": "ipython",
    "version": 3
   },
   "file_extension": ".py",
   "mimetype": "text/x-python",
   "name": "python",
   "nbconvert_exporter": "python",
   "pygments_lexer": "ipython3",
   "version": "3.9.7"
  }
 },
 "nbformat": 4,
 "nbformat_minor": 5
}
