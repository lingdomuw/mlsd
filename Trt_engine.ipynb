{
 "cells": [
  {
   "cell_type": "code",
   "execution_count": 1,
   "id": "7ece600b",
   "metadata": {},
   "outputs": [],
   "source": [
    "import engine as eng\n",
    "import argparse\n",
    "from onnx import ModelProto\n",
    "import tensorrt as trt \n",
    "\n",
    "engine_name = \"mlsd.trt\"\n",
    "onnx_path = \"mlsd_model.onnx\"\n",
    "batch_size = 1 \n",
    "\n",
    "model = ModelProto()\n",
    "with open(onnx_path, \"rb\") as f:\n",
    "    model.ParseFromString(f.read())\n",
    "\n",
    "d0 = model.graph.input[0].type.tensor_type.shape.dim[1].dim_value\n",
    "d1 = model.graph.input[0].type.tensor_type.shape.dim[2].dim_value\n",
    "d2 = model.graph.input[0].type.tensor_type.shape.dim[3].dim_value\n",
    "shape = [batch_size , d0, d1 ,d2]\n",
    "engine = eng.build_engine(onnx_path, shape= shape)\n",
    "eng.save_engine(engine, engine_name) "
   ]
  },
  {
   "cell_type": "code",
   "execution_count": 2,
   "id": "da3e1153",
   "metadata": {},
   "outputs": [],
   "source": [
    "import numpy as np\n",
    "from PIL import Image\n",
    "import tensorrt as trt\n",
    "import skimage.transform\n",
    "\n",
    "\n",
    "\n",
    "HEIGHT = 512\n",
    "WIDTH = 512\n",
    "input_shape=[HEIGHT, WIDTH]\n",
    "\n",
    "def rescale_image(image, output_shape, order=1):\n",
    "    image = skimage.transform.resize(image, output_shape,\n",
    "               order=order, preserve_range=True, mode='reflect')\n",
    "    return image\n",
    "\n",
    "\n",
    "\n"
   ]
  },
  {
   "cell_type": "code",
   "execution_count": 3,
   "id": "16b1895e",
   "metadata": {},
   "outputs": [
    {
     "name": "stdout",
     "output_type": "stream",
     "text": [
      "-------------------------------------------------- \n",
      "\n",
      "Load TRT Engine... \u001b[35mDone (1.10682s)\n",
      "\u001b[0m\n"
     ]
    }
   ],
   "source": [
    "import engine as eng\n",
    "import inference as inf\n",
    "import numpy as np\n",
    "from PIL import Image\n",
    "import tensorrt as trt\n",
    "import skimage.transform\n",
    "from log import timer, logger\n",
    "import trt_common\n",
    "\n",
    "engine_name = \"mlsd.trt\"\n",
    "onnx_path = \"mlsd_model.onnx\"\n",
    "batch_size = 1 \n",
    "TRT_LOGGER = trt.Logger(trt.Logger.WARNING)\n",
    "trt_runtime = trt.Runtime(TRT_LOGGER)\n",
    "\n",
    "load_trt = timer(\"Load TRT Engine\")\n",
    "engine = eng.load_engine(trt_runtime, engine_name)\n",
    "load_trt.end()"
   ]
  },
  {
   "cell_type": "code",
   "execution_count": null,
   "id": "6c5e75a7",
   "metadata": {},
   "outputs": [],
   "source": [
    "inputs, outputs, bindings, stream = trt_common.allocate_buffers(engine)\n"
   ]
  }
 ],
 "metadata": {
  "kernelspec": {
   "display_name": "Python 3 (ipykernel)",
   "language": "python",
   "name": "python3"
  },
  "language_info": {
   "codemirror_mode": {
    "name": "ipython",
    "version": 3
   },
   "file_extension": ".py",
   "mimetype": "text/x-python",
   "name": "python",
   "nbconvert_exporter": "python",
   "pygments_lexer": "ipython3",
   "version": "3.9.7"
  }
 },
 "nbformat": 4,
 "nbformat_minor": 5
}
