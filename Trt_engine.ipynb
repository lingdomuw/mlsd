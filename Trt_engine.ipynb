{
 "cells": [
  {
   "cell_type": "markdown",
   "id": "c11f69a0",
   "metadata": {},
   "source": [
    "import engine as eng\n",
    "import argparse\n",
    "from onnx import ModelProto\n",
    "import tensorrt as trt \n",
    "\n",
    "engine_name = \"mlsd.trt\"\n",
    "onnx_path = \"mlsd_model.onnx\"\n",
    "batch_size = 1 \n",
    "\n",
    "model = ModelProto()\n",
    "with open(onnx_path, \"rb\") as f:\n",
    "    model.ParseFromString(f.read())\n",
    "\n",
    "d0 = model.graph.input[0].type.tensor_type.shape.dim[1].dim_value\n",
    "d1 = model.graph.input[0].type.tensor_type.shape.dim[2].dim_value\n",
    "d2 = model.graph.input[0].type.tensor_type.shape.dim[3].dim_value\n",
    "shape = [batch_size , d0, d1 ,d2]\n",
    "engine = eng.build_engine(onnx_path, shape= shape)\n",
    "eng.save_engine(engine, engine_name) "
   ]
  },
  {
   "cell_type": "code",
   "execution_count": 1,
   "id": "da3e1153",
   "metadata": {},
   "outputs": [],
   "source": [
    "import numpy as np\n",
    "from PIL import Image\n",
    "import tensorrt as trt\n",
    "import skimage.transform\n",
    "\n",
    "\n",
    "\n",
    "HEIGHT = 512\n",
    "WIDTH = 512\n",
    "input_shape=[HEIGHT, WIDTH]\n",
    "\n",
    "def rescale_image(image, output_shape, order=1):\n",
    "    image = skimage.transform.resize(image, output_shape,\n",
    "               order=order, preserve_range=True, mode='reflect')\n",
    "    return image\n",
    "\n",
    "\n",
    "\n"
   ]
  },
  {
   "cell_type": "code",
   "execution_count": 7,
   "id": "16b1895e",
   "metadata": {},
   "outputs": [
    {
     "name": "stdout",
     "output_type": "stream",
     "text": [
      "-------------------------------------------------- \n",
      "\n",
      "Load TRT Engine... \u001b[35mDone (0.30206s)\n",
      "\u001b[0m\n"
     ]
    }
   ],
   "source": [
    "import engine as eng\n",
    "import inference as inf\n",
    "import numpy as np\n",
    "from PIL import Image\n",
    "import tensorrt as trt\n",
    "import skimage.transform\n",
    "from log import timer, logger\n",
    "import trt_common\n",
    "import torchvision.transforms as T\n",
    "def load_data(path):\n",
    "    trans = T.Compose([\n",
    "        T.Resize((512,512)), T.ToTensor()\n",
    "    ])\n",
    "\n",
    "    img = Image.open(path)\n",
    "    img_tensor = trans(img).unsqueeze(0)\n",
    "    return np.array(img_tensor)\n",
    "\n",
    "\n",
    "\n",
    "engine_name = \"mlsd.trt\"\n",
    "onnx_path = \"mlsd_model.onnx\"\n",
    "batch_size = 1 \n",
    "TRT_LOGGER = trt.Logger(trt.Logger.WARNING)\n",
    "trt_runtime = trt.Runtime(TRT_LOGGER)\n",
    "\n",
    "load_trt = timer(\"Load TRT Engine\")\n",
    "engine = eng.load_engine(trt_runtime, engine_name)\n",
    "load_trt.end()\n",
    "\n"
   ]
  },
  {
   "cell_type": "code",
   "execution_count": 9,
   "id": "b394c169",
   "metadata": {},
   "outputs": [
    {
     "name": "stdout",
     "output_type": "stream",
     "text": [
      "-------------------------------------------------- \n",
      "\n",
      "TRT Inference... \u001b[35mDone (0.45467s)\n",
      "\u001b[0m\n"
     ]
    }
   ],
   "source": [
    "# allocate buffer\n",
    "infer_trt = timer(\"TRT Inference\")\n",
    "\n",
    "inputs, outputs, bindings, stream = trt_common.allocate_buffers(engine)\n",
    "\n",
    "# load data\n",
    "inputs[0].host = load_data('/home/cheng/mlsd/test_photo.jpg')\n",
    "\n",
    "# inference\n",
    "with engine.create_execution_context() as context:\n",
    "    trt_outputs = trt_common.do_inference(context, bindings=bindings, inputs=inputs, outputs=outputs, stream=stream)\n",
    "preds = trt_outputs[0]\n",
    "infer_trt.end()"
   ]
  },
  {
   "cell_type": "code",
   "execution_count": 17,
   "id": "3f5b9621",
   "metadata": {},
   "outputs": [
    {
     "data": {
      "text/plain": [
       "[array([0.02436978, 0.02356762, 0.02284408, 0.02232116, 0.0187102 ,\n",
       "        0.01741016, 0.01664442, 0.01551878, 0.01464579, 0.01434892,\n",
       "        0.01434264, 0.01427293, 0.01422656, 0.01314688, 0.01307341,\n",
       "        0.01254079, 0.01206473, 0.01157919, 0.01072472, 0.01033127,\n",
       "        0.01017585, 0.00984547, 0.00979725, 0.00968927, 0.00965488,\n",
       "        0.00945497, 0.00925854, 0.00918946, 0.00914603, 0.00886098,\n",
       "        0.0087972 , 0.00847617, 0.00752237, 0.00668958, 0.00594756,\n",
       "        0.00593787, 0.00575206, 0.00563577, 0.00563094, 0.00548151,\n",
       "        0.00535968, 0.00513506, 0.0050602 , 0.00505751, 0.00491947,\n",
       "        0.00448701, 0.00433442, 0.00425157, 0.0042102 , 0.00385663,\n",
       "        0.00347865, 0.00344685, 0.00341648, 0.00341472, 0.00332019,\n",
       "        0.00331181, 0.00323448, 0.00323308, 0.00289994, 0.0028967 ,\n",
       "        0.00273919, 0.00245938, 0.00245064, 0.0021973 , 0.00211695,\n",
       "        0.00205618, 0.00205454, 0.00203374, 0.0020285 , 0.00195169,\n",
       "        0.00191882, 0.00191739, 0.00189441, 0.00188491, 0.0018684 ,\n",
       "        0.00183737, 0.00183731, 0.00183314, 0.00179738, 0.00177449,\n",
       "        0.00170052, 0.0016579 , 0.00165749, 0.00164551, 0.00164241,\n",
       "        0.00157782, 0.00155753, 0.00152555, 0.00152481, 0.00149095,\n",
       "        0.00148088, 0.00142959, 0.0013921 , 0.001311  , 0.00130934,\n",
       "        0.0013079 , 0.00129491, 0.00125918, 0.0012469 , 0.00124389,\n",
       "        0.00123832, 0.00122625, 0.00122067, 0.00121608, 0.00120446,\n",
       "        0.0011892 , 0.00116703, 0.00116393, 0.00114313, 0.00113472,\n",
       "        0.00112429, 0.00111222, 0.00108963, 0.0010719 , 0.00106347,\n",
       "        0.00105608, 0.00105134, 0.00103599, 0.00100362, 0.00099578,\n",
       "        0.00097561, 0.00093475, 0.00093055, 0.00090644, 0.00087163,\n",
       "        0.0008429 , 0.00079691, 0.0007914 , 0.00072986, 0.00072798,\n",
       "        0.00072074, 0.00071013, 0.00070199, 0.00068989, 0.00064814,\n",
       "        0.00062943, 0.00062892, 0.00062579, 0.00061503, 0.00059   ,\n",
       "        0.00058314, 0.00057465, 0.00057262, 0.00056711, 0.00056231,\n",
       "        0.00055146, 0.00054625, 0.00054562, 0.00054052, 0.00052431,\n",
       "        0.0005233 , 0.00051853, 0.00051805, 0.00051755, 0.0005078 ,\n",
       "        0.00050703, 0.00049537, 0.00049412, 0.00048184, 0.00047404,\n",
       "        0.00047296, 0.0004555 , 0.00043079, 0.00042236, 0.0004217 ,\n",
       "        0.0004161 , 0.00041237, 0.00039935, 0.00039393, 0.00039065,\n",
       "        0.0003868 , 0.00038213, 0.00037703, 0.00037515, 0.00037268,\n",
       "        0.00037146, 0.00036603, 0.00035846, 0.00035739, 0.00035658,\n",
       "        0.0003303 , 0.00032255, 0.00032184, 0.00031194, 0.00030068,\n",
       "        0.00030062, 0.00029913, 0.00028944, 0.00028929, 0.00028926,\n",
       "        0.00028816, 0.00028738, 0.00028363, 0.00027737, 0.00027731,\n",
       "        0.00027707, 0.00027639, 0.00027123, 0.00026855, 0.00026748],\n",
       "       dtype=float32),\n",
       " array([160, 116, 161, 112, 160, 176, 161, 173,  94, 251,  27, 251, 189,\n",
       "        159, 189,  96, 192,  64, 162,  93, 189, 250, 162,  96, 189, 155,\n",
       "        190, 178, 187, 149, 162,  78, 185,  84, 162, 157, 189, 142, 162,\n",
       "        142, 181,  83, 159, 251, 181, 147, 190, 116, 189,  77, 190, 136,\n",
       "        190, 133, 190,  73, 155, 252, 190,   6, 160,  71, 185,   6, 160,\n",
       "        133, 173,  82, 173, 146, 181, 130,  96, 128, 188,   3, 160, 182,\n",
       "         96, 125,  97, 110, 181,  71,  97, 174,  96, 178,  96, 116, 177,\n",
       "          0, 180,  77,  60,   6, 124,   7, 180,   0,  98,  78,  97,  71,\n",
       "         97,  97,  97,  76,  98, 142,  97, 161,  88, 241,  97, 140, 181,\n",
       "        107, 181, 176, 125,   3,  53,   0, 114,   0,  97,  64,  47,   0,\n",
       "         33, 103, 202,  53, 108, 131, 169, 131, 171,  71,  33,  93,  22,\n",
       "         13,  33, 167,  33, 163, 199,  54, 160,  60, 124,  91,  33, 158,\n",
       "        104,  81,  96,  61,  26,   7, 104, 145, 179,  64,  64,   3, 173,\n",
       "        178, 173, 115, 176, 210, 164,   0, 173, 210, 153, 241,   0,   0,\n",
       "        100,   0, 160,  64, 123, 249, 124, 155,  36,   7, 102, 178, 173,\n",
       "         92,  94,   0, 110,  71, 158,   0, 173,  97, 206,   0, 173, 100,\n",
       "        169,  90, 173, 157, 169, 154, 173, 161,  87,   0, 190, 196, 145,\n",
       "          0,  38,   0, 158, 242,  83, 143,  83,  79, 103, 114, 105,  71,\n",
       "        174, 200,  30,   0,  34,  83, 141,   0, 178,  18,  34, 147, 109,\n",
       "         65,  81,   0,  23, 243, 176, 205, 122, 123, 120,  71, 173, 182,\n",
       "        209,   7, 145, 143, 145,  79, 120, 135, 189,  30, 137,   8,  58,\n",
       "        249,  87, 178,  85,  15, 255,   0, 160, 196,  88,  15, 146, 128,\n",
       "         11, 255, 125, 241, 161, 205, 190, 213, 105,  92, 112, 178, 171,\n",
       "         64, 111,  17,  67, 242, 114,  18, 162,  15,  88, 111,   9, 225,\n",
       "        124,  76, 113, 117, 152,  64, 161,   8, 164,   6, 124, 140, 198,\n",
       "        121, 215,  29,  98, 227,  49, 200, 161, 227, 187, 205, 145,  63,\n",
       "         83, 174, 189, 226, 116,  64, 150,  15, 189,  36,  36,  16, 124,\n",
       "        244,  83, 111,  48,  17, 119, 147, 216,   9, 108, 196, 151,  71,\n",
       "         84,  69, 133,  61, 147,  71,  50,  12,  87, 164, 139, 127,  87,\n",
       "        100,  33, 226,  34,  27,  88, 184,  90, 182,  81,  63, 138,  63,\n",
       "         15, 253, 138,  12,  97, 196, 147, 116,   8, 165], dtype=int32),\n",
       " array([  0.40525794,  -7.6301184 ,  -0.24987376, ...,  13.321971  ,\n",
       "         -2.7904816 , -13.4444895 ], dtype=float32)]"
      ]
     },
     "execution_count": 17,
     "metadata": {},
     "output_type": "execute_result"
    }
   ],
   "source": [
    "trt_outputs"
   ]
  }
 ],
 "metadata": {
  "kernelspec": {
   "display_name": "Python 3",
   "language": "python",
   "name": "python3"
  },
  "language_info": {
   "codemirror_mode": {
    "name": "ipython",
    "version": 3
   },
   "file_extension": ".py",
   "mimetype": "text/x-python",
   "name": "python",
   "nbconvert_exporter": "python",
   "pygments_lexer": "ipython3",
   "version": "3.6.9"
  }
 },
 "nbformat": 4,
 "nbformat_minor": 5
}
