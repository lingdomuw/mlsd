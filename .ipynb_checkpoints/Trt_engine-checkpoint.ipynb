{
 "cells": [
  {
   "cell_type": "code",
   "execution_count": 4,
   "id": "e2337536",
   "metadata": {},
   "outputs": [
    {
     "name": "stdout",
     "output_type": "stream",
     "text": [
      "[1, 512, 512, 4]\n"
     ]
    }
   ],
   "source": [
    "import engine as eng\n",
    "import argparse\n",
    "from onnx import ModelProto\n",
    "import tensorrt as trt \n",
    "\n",
    "engine_name = \"mlsd_512_fp16.trt\"\n",
    "onnx_path = \"mlsd_model.onnx\"\n",
    "batch_size = 1 \n",
    "\n",
    "model = ModelProto()\n",
    "with open(onnx_path, \"rb\") as f:\n",
    "    model.ParseFromString(f.read())\n",
    "\n",
    "d0 = model.graph.input[0].type.tensor_type.shape.dim[1].dim_value\n",
    "d1 = model.graph.input[0].type.tensor_type.shape.dim[2].dim_value\n",
    "d2 = model.graph.input[0].type.tensor_type.shape.dim[3].dim_value\n",
    "shape = [batch_size , d0, d1 ,d2]\n",
    "print(shape)\n",
    "engine = eng.build_engine(onnx_path, shape= shape)\n",
    "eng.save_engine(engine, engine_name) "
   ]
  },
  {
   "cell_type": "code",
   "execution_count": 5,
   "id": "da3e1153",
   "metadata": {},
   "outputs": [],
   "source": [
    "import numpy as np\n",
    "from PIL import Image\n",
    "import tensorrt as trt\n",
    "import skimage.transform\n",
    "\n",
    "\n",
    "\n",
    "HEIGHT = 512\n",
    "WIDTH = 512\n",
    "input_shape=[HEIGHT, WIDTH]\n",
    "\n",
    "def rescale_image(image, output_shape, order=1):\n",
    "    image = skimage.transform.resize(image, output_shape,\n",
    "               order=order, preserve_range=True, mode='reflect')\n",
    "    return image\n",
    "\n",
    "\n",
    "\n"
   ]
  },
  {
   "cell_type": "code",
   "execution_count": 16,
   "id": "16b1895e",
   "metadata": {},
   "outputs": [
    {
     "name": "stdout",
     "output_type": "stream",
     "text": [
      "-------------------------------------------------- \n",
      "\n",
      "Load TRT Engine... \u001b[35mDone (0.15220s)\n",
      "\u001b[0m\n"
     ]
    }
   ],
   "source": [
    "import engine as eng\n",
    "import inference as inf\n",
    "import numpy as np\n",
    "from PIL import Image\n",
    "import tensorrt as trt\n",
    "import skimage.transform\n",
    "from log import timer, logger\n",
    "import trt_common\n",
    "import torchvision.transforms as T\n",
    "def load_data(path):\n",
    "    trans = T.Compose([\n",
    "        T.Resize((512,512)), T.ToTensor()\n",
    "    ])\n",
    "\n",
    "    img = Image.open(path)\n",
    "    img_tensor = trans(img).unsqueeze(0)\n",
    "    img_input=np.array(img_tensor)\n",
    "    np.moveaxis(img_input,1,-1)\n",
    "    print(img_input.shape)\n",
    "    return img_input\n",
    "    \n",
    "\n",
    "\n",
    "TRT_LOGGER = trt.Logger(trt.Logger.WARNING)\n",
    "trt_runtime = trt.Runtime(TRT_LOGGER)\n",
    "\n",
    "load_trt = timer(\"Load TRT Engine\")\n",
    "engine = eng.load_engine(trt_runtime, engine_name)\n",
    "load_trt.end()\n",
    "\n"
   ]
  },
  {
   "cell_type": "code",
   "execution_count": 17,
   "id": "b394c169",
   "metadata": {},
   "outputs": [
    {
     "name": "stdout",
     "output_type": "stream",
     "text": [
      "(1, 3, 512, 512)\n",
      "-------------------------------------------------- \n",
      "\n",
      "TRT Inference... \u001b[35mDone (0.64447s)\n",
      "\u001b[0m\n"
     ]
    }
   ],
   "source": [
    "# allocate buffer\n",
    "inputs, outputs, bindings, stream = trt_common.allocate_buffers(engine)\n",
    "\n",
    "# load data\n",
    "inputs[0].host = load_data('/home/cheng/images/frame4000.jpg')\n",
    "\n",
    "\n",
    "# inference\n",
    "infer_trt = timer(\"TRT Inference\")\n",
    "with engine.create_execution_context() as context:\n",
    "    trt_outputs = trt_common.do_inference(context, bindings=bindings, inputs=inputs, outputs=outputs, stream=stream)\n",
    "preds = trt_outputs[0]\n",
    "infer_trt.end()"
   ]
  },
  {
   "cell_type": "code",
   "execution_count": 14,
   "id": "3f5b9621",
   "metadata": {},
   "outputs": [
    {
     "name": "stdout",
     "output_type": "stream",
     "text": [
      "(200,)\n",
      "(400,)\n",
      "(262144,)\n"
     ]
    }
   ],
   "source": [
    "print(trt_outputs[0].shape)\n",
    "print(trt_outputs[1].shape)\n",
    "print(trt_outputs[2].shape)"
   ]
  }
 ],
 "metadata": {
  "kernelspec": {
   "display_name": "Python 3",
   "language": "python",
   "name": "python3"
  },
  "language_info": {
   "codemirror_mode": {
    "name": "ipython",
    "version": 3
   },
   "file_extension": ".py",
   "mimetype": "text/x-python",
   "name": "python",
   "nbconvert_exporter": "python",
   "pygments_lexer": "ipython3",
   "version": "3.6.9"
  }
 },
 "nbformat": 4,
 "nbformat_minor": 5
}
